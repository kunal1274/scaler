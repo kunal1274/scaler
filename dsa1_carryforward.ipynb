{
 "cells": [
  {
   "cell_type": "markdown",
   "metadata": {},
   "source": [
    "Find pairs where a comes before g"
   ]
  },
  {
   "cell_type": "code",
   "execution_count": 22,
   "metadata": {},
   "outputs": [
    {
     "name": "stdout",
     "output_type": "stream",
     "text": [
      "1 [(0,)]\n",
      "(0,) (1,)\n",
      "8 [(0, 1), (3,), (4,)]\n",
      "(0, 1) (8,)\n",
      "(3,) (8,)\n",
      "(4,) (8,)\n"
     ]
    },
    {
     "data": {
      "text/plain": [
       "[(0, 1), (3, 8), (4, 8), (0, 1, 8)]"
      ]
     },
     "execution_count": 22,
     "metadata": {},
     "output_type": "execute_result"
    }
   ],
   "source": [
    "A =['a','g','h','a','a','u','t','k','g']\n",
    "class SolutionPairs:\n",
    "    def __init__(self,array_p):\n",
    "        self.A = array_p\n",
    "\n",
    "    def count_pairs(self):\n",
    "        n = len(self.A)\n",
    "        ans = 0\n",
    "        count_a = 0\n",
    "        for i in range(n):\n",
    "            if self.A[i] == 'a':\n",
    "                count_a += 1\n",
    "            elif self.A[i] == 'g':\n",
    "                ans += count_a\n",
    "        return ans\n",
    "    \n",
    "    def print_pairs(self):\n",
    "        n = len(self.A)\n",
    "        ans=[]\n",
    "        for i in range(n):\n",
    "            if self.A[i] == 'a':\n",
    "                ans.append((i,))\n",
    "            elif self.A[i] == 'g':\n",
    "                print(i,ans)\n",
    "                for j in range(len(ans)):\n",
    "                    print(ans[j],(i,))\n",
    "                    if len(ans[j]) == 2:\n",
    "                        ans.append(ans[j]+(i,))\n",
    "                    else:\n",
    "                        ans[j]=ans[j] + (i,)\n",
    "        return ans\n",
    "                \n",
    "\n",
    "\n",
    "s1 = SolutionPairs(A)\n",
    "#s1.count_pairs()\n",
    "s1.print_pairs()\n",
    "\n",
    "\n"
   ]
  },
  {
   "cell_type": "markdown",
   "metadata": {},
   "source": [
    "Finding Leader . The leader is defined as the element who is greater than all the element on its right."
   ]
  },
  {
   "cell_type": "code",
   "execution_count": 32,
   "metadata": {},
   "outputs": [
    {
     "data": {
      "text/plain": [
       "[2, 5, 19]"
      ]
     },
     "execution_count": 32,
     "metadata": {},
     "output_type": "execute_result"
    }
   ],
   "source": [
    "A = [2,5,1,19,4,6,13,0,8]\n",
    "# ans_leader_gt_right = [13,8]\n",
    "# ans_leader_gt_left = [2,5,9,13]\n",
    "class SolutionLeader:\n",
    "    def __init__(self,array_p):\n",
    "        self.A = array_p\n",
    "\n",
    "    def leader_gt_right(self):\n",
    "        n = len(self.A)\n",
    "        ans = []\n",
    "        ans.append(self.A[n-1])\n",
    "        leader = ans[-1]\n",
    "        for i in reversed(range(n-1)):\n",
    "            if self.A[i] >= leader:\n",
    "                #print(self.A[i],self.A[-1])\n",
    "                ans.append(self.A[i])\n",
    "                leader = ans[-1]\n",
    "        ans.reverse()\n",
    "        return ans\n",
    "    \n",
    "    def leader_gt_left(self):\n",
    "        n = len(self.A) # length of given array \n",
    "        ans = [] # defining an output array \n",
    "        ans.append(A[0]) # adding the first element of the array as the leader \n",
    "        leader = ans[-1] # not required but we have added for more clarity and better readability\n",
    "        for i in range(1,n):# i is used as an index \n",
    "            if self.A[i] >= leader:\n",
    "                ans.append(self.A[i])\n",
    "                leader = ans[-1]\n",
    "        return ans\n",
    "\n",
    "    \n",
    "s2 = SolutionLeader(A)\n",
    "s2.leader_gt_right()\n",
    "s2.leader_gt_left()\n",
    "\n"
   ]
  },
  {
   "cell_type": "code",
   "execution_count": null,
   "metadata": {},
   "outputs": [],
   "source": []
  }
 ],
 "metadata": {
  "kernelspec": {
   "display_name": "Python 3",
   "language": "python",
   "name": "python3"
  },
  "language_info": {
   "codemirror_mode": {
    "name": "ipython",
    "version": 3
   },
   "file_extension": ".py",
   "mimetype": "text/x-python",
   "name": "python",
   "nbconvert_exporter": "python",
   "pygments_lexer": "ipython3",
   "version": "3.11.1"
  },
  "orig_nbformat": 4
 },
 "nbformat": 4,
 "nbformat_minor": 2
}
