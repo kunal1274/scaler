{
 "cells": [
  {
   "cell_type": "markdown",
   "metadata": {},
   "source": [
    "Q1. Given an array of N distinct sorted elements , check if there exists a pair (i,j) such that A[i] + A[j] =k such that i!=j"
   ]
  },
  {
   "cell_type": "code",
   "execution_count": 36,
   "metadata": {},
   "outputs": [
    {
     "data": {
      "text/plain": [
       "(6, 18, True)"
      ]
     },
     "execution_count": 36,
     "metadata": {},
     "output_type": "execute_result"
    }
   ],
   "source": [
    "A = [3,7,8,11,14,19,20]\n",
    "k = 26\n",
    "\n",
    "def bruteforce_loops_pair_sum(A,k):\n",
    "    \"\"\"\n",
    "    T = N**2\n",
    "    S = 1\n",
    "    \"\"\"\n",
    "    n = len(A)\n",
    "    for start in range(n-1):\n",
    "        for end in range(start+1,n):\n",
    "            if A[start] + A[end] == k:\n",
    "                return (start,end,True)\n",
    "    return (-1,-1,False)\n",
    "\n",
    "def optimize1_hashset_pair_sum(A,k):\n",
    "    \"\"\"\n",
    "    T = N\n",
    "    S = N\n",
    "    \"\"\"\n",
    "    hs=set()\n",
    "    hs.add(A[0])\n",
    "    n = len(A)\n",
    "    for i in range(1,n):\n",
    "        if (k-A[i]) in hs:\n",
    "            return True\n",
    "        hs.add(A[i])\n",
    "    return False\n",
    "\n",
    "def optimize2_hashmap_pair_sum(A,k):\n",
    "    \"\"\"\n",
    "    T = N\n",
    "    S = N\n",
    "    \"\"\"\n",
    "    hm = {}\n",
    "    hm[A[0]] = 1\n",
    "    n = len(A)\n",
    "    for i in range(1,n):\n",
    "        if (k - A[i]) in hm:\n",
    "            return True\n",
    "        if A[i] in hm:\n",
    "            hm[A[i]] += 1\n",
    "        else:\n",
    "            hm[A[i]] = 1\n",
    "    return False\n",
    "\n",
    "def optimize3_binarysearch_pair_sum(A,k):\n",
    "    \"\"\"\n",
    "    T = NlogN\n",
    "    S = 1\n",
    "    \"\"\"\n",
    "    n = len(A)\n",
    "    for i in range(n):\n",
    "        b = k - A[i]\n",
    "        low = i+1\n",
    "        high = n-1\n",
    "        #mid = (low+high)//2\n",
    "        #print(b)\n",
    "        while low<=high:\n",
    "            mid = (low+high)//2\n",
    "            #print(low,high,mid,A[mid])\n",
    "            #print(mid)\n",
    "            if b == A[mid]:\n",
    "                return True\n",
    "            if b < A[mid]: # since b is lesser than mid element so it can be found towards left side \n",
    "                high = mid -1\n",
    "\n",
    "            elif b > A[mid]:# since b is greater then it can be found on the right side \n",
    "                low = mid + 1\n",
    "    return False\n",
    "\n",
    "def optimize4_twopointer_pair_sum(A,k):\n",
    "    n = len(A)\n",
    "    p1 = 0 \n",
    "    p2 = n-1\n",
    "    while p1<p2: # p1 is increasing and p2 is decreasing in each loop. if p1 > p2 then stop\n",
    "        if A[p1] + A[p2] > k :\n",
    "            p2-=1\n",
    "        elif A[p1] + A[p2] < k :\n",
    "            p1+=1\n",
    "        else:\n",
    "            return (A[p1],A[p2],True)\n",
    "    return False\n",
    "\n",
    "\n",
    "A = [-3,0,1,3,6,8,11,14,18,25] \n",
    "k = 24 \n",
    "#bruteforce_loops_pair_sum(A,k)\n",
    "#optimize1_hashset_pair_sum(A,k)\n",
    "#optimize2_hashmap_pair_sum(A,k)\n",
    "#optimize3_binarysearch_pair_sum(A,k)\n",
    "optimize4_twopointer_pair_sum(A,k)"
   ]
  },
  {
   "cell_type": "code",
   "execution_count": null,
   "metadata": {},
   "outputs": [],
   "source": []
  }
 ],
 "metadata": {
  "kernelspec": {
   "display_name": "Python 3",
   "language": "python",
   "name": "python3"
  },
  "language_info": {
   "codemirror_mode": {
    "name": "ipython",
    "version": 3
   },
   "file_extension": ".py",
   "mimetype": "text/x-python",
   "name": "python",
   "nbconvert_exporter": "python",
   "pygments_lexer": "ipython3",
   "version": "3.11.1"
  },
  "orig_nbformat": 4
 },
 "nbformat": 4,
 "nbformat_minor": 2
}
