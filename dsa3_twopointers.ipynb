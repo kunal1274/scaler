{
 "cells": [
  {
   "cell_type": "markdown",
   "metadata": {},
   "source": [
    "Q1. Given an array of N distinct sorted elements , check if there exists a pair (i,j) such that A[i] + A[j] =k such that i!=j"
   ]
  },
  {
   "cell_type": "code",
   "execution_count": 36,
   "metadata": {},
   "outputs": [
    {
     "data": {
      "text/plain": [
       "(6, 18, True)"
      ]
     },
     "execution_count": 36,
     "metadata": {},
     "output_type": "execute_result"
    }
   ],
   "source": [
    "A = [3,7,8,11,14,19,20]\n",
    "k = 26\n",
    "\n",
    "def bruteforce_loops_pair_sum(A,k):\n",
    "    \"\"\"\n",
    "    T = N**2\n",
    "    S = 1\n",
    "    \"\"\"\n",
    "    n = len(A)\n",
    "    for start in range(n-1):\n",
    "        for end in range(start+1,n):\n",
    "            if A[start] + A[end] == k:\n",
    "                return (start,end,True)\n",
    "    return (-1,-1,False)\n",
    "\n",
    "def optimize1_hashset_pair_sum(A,k):\n",
    "    \"\"\"\n",
    "    T = N\n",
    "    S = N\n",
    "    \"\"\"\n",
    "    hs=set()\n",
    "    hs.add(A[0])\n",
    "    n = len(A)\n",
    "    for i in range(1,n):\n",
    "        if (k-A[i]) in hs:\n",
    "            return True\n",
    "        hs.add(A[i])\n",
    "    return False\n",
    "\n",
    "def optimize2_hashmap_pair_sum(A,k):\n",
    "    \"\"\"\n",
    "    T = N\n",
    "    S = N\n",
    "    \"\"\"\n",
    "    hm = {}\n",
    "    hm[A[0]] = 1\n",
    "    n = len(A)\n",
    "    for i in range(1,n):\n",
    "        if (k - A[i]) in hm:\n",
    "            return True\n",
    "        if A[i] in hm:\n",
    "            hm[A[i]] += 1\n",
    "        else:\n",
    "            hm[A[i]] = 1\n",
    "    return False\n",
    "\n",
    "def optimize3_binarysearch_pair_sum(A,k):\n",
    "    \"\"\"\n",
    "    T = NlogN\n",
    "    S = 1\n",
    "    \"\"\"\n",
    "    n = len(A)\n",
    "    for i in range(n):\n",
    "        b = k - A[i]\n",
    "        low = i+1\n",
    "        high = n-1\n",
    "        #mid = (low+high)//2\n",
    "        #print(b)\n",
    "        while low<=high:\n",
    "            mid = (low+high)//2\n",
    "            #print(low,high,mid,A[mid])\n",
    "            #print(mid)\n",
    "            if b == A[mid]:\n",
    "                return True\n",
    "            if b < A[mid]: # since b is lesser than mid element so it can be found towards left side \n",
    "                high = mid -1\n",
    "\n",
    "            elif b > A[mid]:# since b is greater then it can be found on the right side \n",
    "                low = mid + 1\n",
    "    return False\n",
    "\n",
    "def optimize4_twopointer_pair_sum(A,k):\n",
    "    n = len(A)\n",
    "    p1 = 0 \n",
    "    p2 = n-1\n",
    "    while p1<p2: # p1 is increasing and p2 is decreasing in each loop. if p1 > p2 then stop\n",
    "        if A[p1] + A[p2] > k :\n",
    "            p2-=1\n",
    "        elif A[p1] + A[p2] < k :\n",
    "            p1+=1\n",
    "        else:\n",
    "            return (A[p1],A[p2],True)\n",
    "    return False\n",
    "\n",
    "\n",
    "A = [-3,0,1,3,6,8,11,14,18,25] \n",
    "k = 24 \n",
    "#bruteforce_loops_pair_sum(A,k)\n",
    "#optimize1_hashset_pair_sum(A,k)\n",
    "#optimize2_hashmap_pair_sum(A,k)\n",
    "#optimize3_binarysearch_pair_sum(A,k)\n",
    "optimize4_twopointer_pair_sum(A,k)"
   ]
  },
  {
   "cell_type": "markdown",
   "metadata": {},
   "source": [
    "Given array of N sorted elements.check if there exists a pair (i,j) such that A[i] - A[j] = k and k >= 0 . i !=j.\n",
    "a - b = k .\n",
    "if k>0\n",
    "then a > b.\n",
    "if k < 0 \n",
    "b > a.\n",
    "if k = 0\n",
    "then a = b.\n",
    "- if b - a > b then means that a is definitely negative .\n",
    "- if "
   ]
  },
  {
   "cell_type": "code",
   "execution_count": 61,
   "metadata": {},
   "outputs": [
    {
     "data": {
      "text/plain": [
       "False"
      ]
     },
     "execution_count": 61,
     "metadata": {},
     "output_type": "execute_result"
    }
   ],
   "source": [
    "A = [-3,0,1,3,6,8,11,14,21,25]\n",
    "\"\"\"\n",
    "0+3 = 3 < 5 . p2++ to inc the diff. there is no other way to inc the diff. from p1 = 0 \n",
    "1+3 = 4 < 5 . p2++ to inc the diff\n",
    "3 +3 = 6 > 5. p1++ to dec the diff. there is no other way to dec the diff from p1 = 0. we have to move p1++\n",
    "\"\"\"\n",
    "k = 16\n",
    "# if p2 - p1 = k1. p2 dec. then k1 decreases. p1 inc if k1 needs to be decreased further .\n",
    "def optimize1_twopointer_pair_diff(A,k):\n",
    "    if k < 0:\n",
    "        k*=-1\n",
    "    n = len(A)\n",
    "    p1 = 0\n",
    "    p2 = 1\n",
    "    while p2 < n:\n",
    "        if A[p2] - A[p1] == k:\n",
    "            return (A[p1],A[p2],True)\n",
    "        elif A[p2] - A[p1] < k: # to inc the diff we should increase p2. no other way \n",
    "            p2+=1\n",
    "            \n",
    "        elif A[p2] - A[p1] > k : # to dec the diff to meet k we should increase the p1. no other way .\n",
    "            p1+=1\n",
    "            if p1 == p2:\n",
    "                p2+=1\n",
    "                \n",
    "    return False\n",
    "\n",
    "def optimize2_twopointer_pair_diff(A,k):\n",
    "    if k < 0:\n",
    "        k*=-1\n",
    "    n = len(A)\n",
    "    p1= n-2\n",
    "    p2 = n-1\n",
    "    while p1 >0:\n",
    "        print(A[p1],A[p2])\n",
    "        if A[p2] - A[p1] == k:\n",
    "            return (A[p1],A[p2],True)\n",
    "        elif A[p2] - A[p1] < k:# the diff needs to inc to meet k. then p1--.p2++ is not possible.\n",
    "            p1-=1\n",
    "            \n",
    "        elif A[p2] - A[p1] >k:# the diff needs to be dec to meet k . then p2--.p1-- further decrease will increase the diff.\n",
    "            p2-=1\n",
    "            if p2 == p1:\n",
    "                p1-=1\n",
    "                \n",
    "\n",
    "    return False\n",
    "\n",
    "optimize1_twopointer_pair_diff(A,k)\n",
    "#optimize2_twopointer_pair_diff(A,k)\n"
   ]
  },
  {
   "cell_type": "markdown",
   "metadata": {},
   "source": [
    "Given an array of items having varying prices . A bargain hunter seeks the shortest continuous stretch of stalls containing both the cheapest and the most expensive item . "
   ]
  },
  {
   "cell_type": "code",
   "execution_count": 73,
   "metadata": {},
   "outputs": [
    {
     "name": "stdout",
     "output_type": "stream",
     "text": [
      "2 4\n",
      "6 7\n"
     ]
    },
    {
     "data": {
      "text/plain": [
       "2"
      ]
     },
     "execution_count": 73,
     "metadata": {},
     "output_type": "execute_result"
    }
   ],
   "source": [
    "A = [5,3,9,1,6,8,1,4,9,4,0]\n",
    "import sys\n",
    "def minSubarray(A, n):\n",
    " \n",
    "    # find maximum and minimum\n",
    "    # values in the array\n",
    "    minValue = min(A)\n",
    "    maxValue = max(A)\n",
    " \n",
    "    pos_min, pos_max, ans = -1, -1, sys.maxsize\n",
    " \n",
    "    # iterate over the array and set answer\n",
    "    # to smallest difference between position\n",
    "    # of maximum and position of minimum value\n",
    "    for i in range(0, n):\n",
    "         \n",
    "        # last occurrence of minValue\n",
    "        if A[i] == minValue:\n",
    "            pos_min = i\n",
    " \n",
    "        # last occurrence of maxValue\n",
    "        if A[i] == maxValue:\n",
    "            pos_max = i\n",
    " \n",
    "        if pos_max != -1 and pos_min != -1 :\n",
    "            ans = min(ans, abs(pos_min - pos_max) + 1)\n",
    " \n",
    "    return ans\n",
    "\n",
    "def shortest_stretch_maxdiff(A):\n",
    "    n = len(A)\n",
    "    min_e = min(A)\n",
    "    max_e = max(A)\n",
    "\n",
    "    p1,p2,ans = -1,-1,float('inf')\n",
    "\n",
    "    for i in range(n):\n",
    "        if A[i] == min_e:\n",
    "            p1 = i\n",
    "        if A[i] == max_e:\n",
    "            p2 = i\n",
    "        if p1 != -1 and p2!= -1:\n",
    "            if abs(p2-p1) + 1 < ans: # if the length of subarray is lesser than the max subarray possible then replace the ans .\n",
    "                ans = abs(p2-p1) + 1\n",
    "                print(p1,p2)\n",
    "    return ans\n",
    "        \n",
    " \n",
    "# Driver code\n",
    "A = [ -1,2, -1, 5, 9, 7, -1, 9,-1, 4,0,-1]\n",
    "n = len(A)\n",
    " \n",
    "#print(minSubarray(A, n))\n",
    "shortest_stretch_maxdiff(A)"
   ]
  },
  {
   "cell_type": "markdown",
   "metadata": {},
   "source": [
    "Water Logging\n",
    "Given Array of N elements , arr[i] represents height of each wall. Find max water accummulated by any two walls . \n"
   ]
  },
  {
   "cell_type": "code",
   "execution_count": 80,
   "metadata": {},
   "outputs": [
    {
     "name": "stdout",
     "output_type": "stream",
     "text": [
      "(1, 3)\n"
     ]
    },
    {
     "data": {
      "text/plain": [
       "10"
      ]
     },
     "execution_count": 80,
     "metadata": {},
     "output_type": "execute_result"
    }
   ],
   "source": [
    "A = [3,7,4,5,2]\n",
    "# Taking the logic such that pointer if kept the max distance apart then chnace of highest area. min(p1,p2)*height.\n",
    "# we can reduce p2 if p2 is the lower height. p1 if lower height then remove p1 else p2 . \n",
    "# with lower of either p1 or p2 . we cant get better than that and thus discarding them is safe . \n",
    "def water_max(A):\n",
    "    n = len(A)\n",
    "    p1 = 0\n",
    "    p2 = n-1\n",
    "    width = p2-p1\n",
    "    t =()\n",
    "    ans = -float('inf')\n",
    "    while (p1<p2):\n",
    "        #print(p1,p2)\n",
    "        width = p2-p1\n",
    "        new_ans = min(A[p1],A[p2])*width\n",
    "        if new_ans > ans:\n",
    "            ans = new_ans\n",
    "            #print(\"final ans : \",p1,p2)\n",
    "            t= (p1,p2)\n",
    "        if A[p2] <= A[p1]:\n",
    "            p2-=1\n",
    "        else:\n",
    "            p1+=1\n",
    "    print(t)\n",
    "    return ans\n",
    "\n",
    "water_max(A)\n",
    "\n",
    "\n",
    "\n"
   ]
  },
  {
   "cell_type": "markdown",
   "metadata": {},
   "source": [
    "Given 3 sorted arrays A,B and C of size N elements . Find minimum value of expression : max(A[i],B[j],C[k]) - min(A[i],B[j],C[k])"
   ]
  },
  {
   "cell_type": "code",
   "execution_count": 84,
   "metadata": {},
   "outputs": [
    {
     "data": {
      "text/plain": [
       "(3, (3, 1, 2))"
      ]
     },
     "execution_count": 84,
     "metadata": {},
     "output_type": "execute_result"
    }
   ],
   "source": [
    "# We will use the three pointers.\n",
    "# for each array one pointer start at first index. \n",
    "# lowest of all three pointer should be removed as difference between any of the other index in any array will be always increase the difference but we need minimum difference .\n",
    "A = [3,14,16,23]\n",
    "B = [-6,23,24,30]\n",
    "C =[-15,15,26,31]\n",
    "\n",
    "def min_value_exp(A,B,C):\n",
    "    n = len(A)\n",
    "    p1 = 0\n",
    "    p2 = 0\n",
    "    p3 = 0\n",
    "    ans = max(A[p1],B[p2],C[p3]) - min(A[p1],B[p2],C[p3])\n",
    "    t=()\n",
    "    while (p1 < n and p2 < n and p3 < n ):\n",
    "        new_ans = max(A[p1],B[p2],C[p3]) - min(A[p1],B[p2],C[p3])\n",
    "        if new_ans < ans :\n",
    "            ans = new_ans\n",
    "            t=(p1,p2,p3)\n",
    "        if A[p1] <= B[p2] and A[p1] <= C[p3]:\n",
    "            p1+=1\n",
    "        elif B[p2] <= A[p1] and B[p2] <= C[p3]:\n",
    "            p2+=1\n",
    "        elif C[p3] <= B[p2] and C[p3] <= A[p1]:\n",
    "            p3+=1\n",
    "        \n",
    "    return ans,t\n",
    "min_value_exp(A,B,C)\n"
   ]
  },
  {
   "cell_type": "code",
   "execution_count": null,
   "metadata": {},
   "outputs": [],
   "source": []
  }
 ],
 "metadata": {
  "kernelspec": {
   "display_name": "Python 3",
   "language": "python",
   "name": "python3"
  },
  "language_info": {
   "codemirror_mode": {
    "name": "ipython",
    "version": 3
   },
   "file_extension": ".py",
   "mimetype": "text/x-python",
   "name": "python",
   "nbconvert_exporter": "python",
   "pygments_lexer": "ipython3",
   "version": "3.11.1"
  },
  "orig_nbformat": 4
 },
 "nbformat": 4,
 "nbformat_minor": 2
}
