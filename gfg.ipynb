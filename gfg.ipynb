{
 "cells": [
  {
   "cell_type": "markdown",
   "metadata": {},
   "source": []
  },
  {
   "cell_type": "code",
   "execution_count": 23,
   "metadata": {},
   "outputs": [
    {
     "data": {
      "text/plain": [
       "10"
      ]
     },
     "execution_count": 23,
     "metadata": {},
     "output_type": "execute_result"
    }
   ],
   "source": [
    "A = [1,6,9,2,3,4,7,8,5]\n",
    "def missing_number(arr,n):\n",
    "    arr.sort()\n",
    "    for i in range(n-1):\n",
    "        if arr[i] != i+1:\n",
    "            return (i+1)\n",
    "    return n\n",
    "\n",
    "missing_number(A,10)\n"
   ]
  },
  {
   "cell_type": "code",
   "execution_count": 6,
   "metadata": {},
   "outputs": [
    {
     "name": "stdout",
     "output_type": "stream",
     "text": [
      "0\n",
      "1\n",
      "2\n",
      "3\n",
      "{0: 1, 1: 1, 3: 1, 2: 1}\n",
      "[]\n"
     ]
    },
    {
     "data": {
      "text/plain": [
       "-1"
      ]
     },
     "execution_count": 6,
     "metadata": {},
     "output_type": "execute_result"
    }
   ],
   "source": [
    "def duplicates(arr, n): \n",
    "    # code here\n",
    "    d ={}\n",
    "    final=[]\n",
    "    for i in range(n):\n",
    "        print(i)\n",
    "        if arr[i] in d:\n",
    "            \n",
    "            d[arr[i]]+=1\n",
    "            final.append(arr[i])\n",
    "        else:\n",
    "            d[arr[i]] = 1\n",
    "    print(d)\n",
    "    print(final)\n",
    "    if len(final) >0 :\n",
    "        return final\n",
    "    else:\n",
    "        return -1\n",
    "    \n",
    "duplicates([0,1,3,2],4)"
   ]
  },
  {
   "cell_type": "code",
   "execution_count": 21,
   "metadata": {},
   "outputs": [
    {
     "name": "stdout",
     "output_type": "stream",
     "text": [
      "[3]\n",
      "3 \n"
     ]
    }
   ],
   "source": [
    "class Solution:\n",
    "    def duplicates(self, arr, n): \n",
    "        #arr.sort()\n",
    "        #print(arr)\n",
    "        # code here\n",
    "        d ={}\n",
    "        final =[]\n",
    "        for i in range(n):\n",
    "            #print(i)\n",
    "            if arr[i] in d:\n",
    "                \n",
    "                d[arr[i]]+=1\n",
    "                #print(arr[i])\n",
    "                \n",
    "            else:\n",
    "                d[arr[i]] = 1\n",
    "       \n",
    "        for key,value in d.items():\n",
    "            if value > 1:\n",
    "                final.append(key)\n",
    "        final.sort()\n",
    "        print(final)\n",
    "        if len(final) > 0:\n",
    "            return final\n",
    "        else:\n",
    "            final.append(-1)\n",
    "            return final\n",
    "    \n",
    "    \t    \n",
    "\n",
    "\n",
    "#{ \n",
    " # Driver Code Starts\n",
    "if(__name__=='__main__'):\n",
    "    t = int(input())\n",
    "    for i in range(t):\n",
    "        n = int(input())\n",
    "        arr = list(map(int, input().strip().split()))\n",
    "        res = Solution().duplicates(arr, n)\n",
    "        for i in res:\n",
    "            print(i,end=\" \")\n",
    "        print()\n",
    "\n",
    "\n",
    "\n",
    "# } Driver Code Ends"
   ]
  },
  {
   "cell_type": "markdown",
   "metadata": {},
   "source": [
    "Sort an array of 0s, 1s and 2s\n",
    "EasyAccuracy: 50.58%Submissions: 586K+Points: 2\n",
    "Join the most popular course on DSA. Master Skills & Become Employable by enrolling today! \n",
    "Given an array of size N containing only 0s, 1s, and 2s; sort the array in ascending order.\n",
    "\n",
    "\n",
    "Example 1:\n",
    "\n",
    "Input: \n",
    "N = 5\n",
    "arr[]= {0 2 1 2 0}\n",
    "Output:\n",
    "0 0 1 2 2\n",
    "Explanation:\n",
    "0s 1s and 2s are segregated \n",
    "into ascending order.\n",
    "Example 2:\n",
    "\n",
    "Input: \n",
    "N = 3\n",
    "arr[] = {0 1 0}\n",
    "Output:\n",
    "0 0 1\n",
    "Explanation:\n",
    "0s 1s and 2s are segregated \n",
    "into ascending order.\n",
    "\n",
    "Your Task:\n",
    "You don't need to read input or print anything. Your task is to complete the function sort012() that takes an array arr and N as input parameters and sorts the array in-place.\n",
    "\n",
    "\n",
    "Expected Time Complexity: O(N)\n",
    "Expected Auxiliary Space: O(1)\n",
    "\n",
    "\n",
    "Constraints:\n",
    "1 <= N <= 10^6\n",
    "0 <= A[i] <= 2"
   ]
  },
  {
   "cell_type": "code",
   "execution_count": 45,
   "metadata": {},
   "outputs": [
    {
     "name": "stdout",
     "output_type": "stream",
     "text": [
      "0 9 0 [1, 0, 1, 2, 1, 2, 0, 1, 0, 2]\n",
      "1 9 1 [0, 1, 1, 2, 1, 2, 0, 1, 0, 2]\n",
      "2 9 1 [0, 1, 1, 2, 1, 2, 0, 1, 0, 2]\n",
      "3 8 1 [0, 1, 1, 2, 1, 2, 0, 1, 0, 2]\n",
      "4 8 1 [0, 1, 1, 2, 1, 2, 0, 1, 0, 2]\n",
      "5 7 2 [0, 0, 1, 2, 1, 1, 0, 1, 2, 2]\n",
      "6 7 3 [0, 0, 0, 2, 1, 1, 1, 1, 2, 2]\n",
      "7 7 3 [0, 0, 0, 2, 1, 1, 1, 1, 2, 2]\n",
      "[0, 0, 0, 2, 1, 1, 1, 2, 1, 2]\n"
     ]
    }
   ],
   "source": [
    "A = [1,0,1,2,1,2,0,1,0,2]\n",
    "#A=[0,1,0]\n",
    "n = len(A)\n",
    "z=0\n",
    "t=n-1\n",
    "for i in range(n):\n",
    "    if A[i] == 0:\n",
    "        A[i] = A[z]\n",
    "        A[z] = 0\n",
    "        z+=1\n",
    "    \n",
    "    elif A[i] == 2:\n",
    "        A[i] = A[t]\n",
    "        A[t] = 2\n",
    "        if A[i] ==0:\n",
    "            A[i] = A[z]\n",
    "            A[z] = 0\n",
    "            z+=1\n",
    "        t-=1\n",
    "        #print(i,t,z)\n",
    "        if i>=t:\n",
    "            break\n",
    "    print(i,t,z,A)\n",
    "\n",
    "print(A)\n",
    "    "
   ]
  },
  {
   "cell_type": "code",
   "execution_count": null,
   "metadata": {},
   "outputs": [],
   "source": []
  },
  {
   "cell_type": "markdown",
   "metadata": {},
   "source": [
    "Find all four sums \n",
    "A = [10,2,3,4,5,7,8]"
   ]
  },
  {
   "cell_type": "markdown",
   "metadata": {},
   "source": []
  },
  {
   "cell_type": "code",
   "execution_count": 51,
   "metadata": {},
   "outputs": [
    {
     "name": "stdout",
     "output_type": "stream",
     "text": [
      "[2, 3, 4, 5, 7, 8, 10]\n",
      "(0, 2) (1, 3) (2, 4) (3, 5)\n",
      "(0, 2) (1, 3) (2, 4) (4, 7)\n",
      "(0, 2) (1, 3) (2, 4) (5, 8)\n",
      "(0, 2) (1, 3) (2, 4) (6, 10)\n",
      "(0, 2) (1, 3) (3, 5) (4, 7)\n",
      "(0, 2) (1, 3) (3, 5) (5, 8)\n",
      "(0, 2) (1, 3) (3, 5) (6, 10)\n",
      "(0, 2) (1, 3) (4, 7) (5, 8)\n",
      "(0, 2) (1, 3) (4, 7) (6, 10)\n",
      "(0, 2) (1, 3) (5, 8) (6, 10)\n",
      "(0, 2) (2, 4) (3, 5) (4, 7)\n",
      "(0, 2) (2, 4) (3, 5) (5, 8)\n",
      "(0, 2) (2, 4) (3, 5) (6, 10)\n",
      "(0, 2) (2, 4) (4, 7) (5, 8)\n",
      "(0, 2) (2, 4) (4, 7) (6, 10)\n",
      "(0, 2) (2, 4) (5, 8) (6, 10)\n",
      "(0, 2) (3, 5) (4, 7) (5, 8)\n",
      "(0, 2) (3, 5) (4, 7) (6, 10)\n",
      "(0, 2) (3, 5) (5, 8) (6, 10)\n",
      "(0, 2) (4, 7) (5, 8) (6, 10)\n",
      "(1, 3) (2, 4) (3, 5) (4, 7)\n",
      "(1, 3) (2, 4) (3, 5) (5, 8)\n",
      "(1, 3) (2, 4) (3, 5) (6, 10)\n",
      "(1, 3) (2, 4) (4, 7) (5, 8)\n",
      "(1, 3) (2, 4) (4, 7) (6, 10)\n",
      "(1, 3) (2, 4) (5, 8) (6, 10)\n",
      "(1, 3) (3, 5) (4, 7) (5, 8)\n",
      "(1, 3) (3, 5) (4, 7) (6, 10)\n",
      "(1, 3) (3, 5) (5, 8) (6, 10)\n",
      "(1, 3) (4, 7) (5, 8) (6, 10)\n",
      "(2, 4) (3, 5) (4, 7) (5, 8)\n",
      "(2, 4) (3, 5) (4, 7) (6, 10)\n",
      "(2, 4) (3, 5) (5, 8) (6, 10)\n",
      "(2, 4) (4, 7) (5, 8) (6, 10)\n",
      "(3, 5) (4, 7) (5, 8) (6, 10)\n"
     ]
    }
   ],
   "source": [
    "A = [10,2,3,4,5,7,8]\n",
    "A.sort()\n",
    "print(A)\n",
    "n = len(A)\n",
    "t = 4\n",
    "for i in range(n-t+1):\n",
    "    for j in range(i+1,n-t+2):  \n",
    "        for k in range(j+1,n-t+3):\n",
    "            for l in range(k+1,n-t+4):\n",
    "                print((i,A[i]),(j,A[j]),(k,A[k]),(l,A[l]))\n"
   ]
  },
  {
   "cell_type": "code",
   "execution_count": null,
   "metadata": {},
   "outputs": [],
   "source": []
  }
 ],
 "metadata": {
  "kernelspec": {
   "display_name": "Python 3",
   "language": "python",
   "name": "python3"
  },
  "language_info": {
   "codemirror_mode": {
    "name": "ipython",
    "version": 3
   },
   "file_extension": ".py",
   "mimetype": "text/x-python",
   "name": "python",
   "nbconvert_exporter": "python",
   "pygments_lexer": "ipython3",
   "version": "3.11.1"
  },
  "orig_nbformat": 4
 },
 "nbformat": 4,
 "nbformat_minor": 2
}
