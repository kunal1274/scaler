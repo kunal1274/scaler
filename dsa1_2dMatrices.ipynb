{
 "cells": [
  {
   "cell_type": "markdown",
   "metadata": {},
   "source": [
    "Given N*N matrix . Print all the boundary elements in clockwise."
   ]
  },
  {
   "cell_type": "code",
   "execution_count": 6,
   "metadata": {},
   "outputs": [
    {
     "name": "stdout",
     "output_type": "stream",
     "text": [
      "3 2 1 0 4 2 5 7 1 0 9 4 1 3 2 8 "
     ]
    }
   ],
   "source": [
    "A = [\n",
    "    [3,2,1,0,4],\n",
    "    [8,3,1,6,2],\n",
    "    [2,4,1,0,5],\n",
    "    [3,2,6,9,7],\n",
    "    [1,4,9,0,1]\n",
    "]\n",
    "class Solution2dMatrix:\n",
    "    def __init__(self,array2d):\n",
    "        self.A = array2d\n",
    "\n",
    "    def print_2d_array(self):\n",
    "        for row in range(len(A)):\n",
    "            for col in range(len(A[row])):\n",
    "                print(A[row][col],end=\" \")\n",
    "    \n",
    "    def print_outer_boundary(self):\n",
    "        n = len(self.A) # this is equal to cols and rows count .as this is a square matrix .\n",
    "        for col in range(n):\n",
    "            print(self.A[0][col],end=\" \")\n",
    "        for row in range(1,n): # as first row already printed \n",
    "            print(self.A[row][n-1],end=\" \")\n",
    "        col-=1\n",
    "        for col in reversed(range(n-1)): # range will go from 0 to n-2. but we need n-2 to 0 so use reversed. \n",
    "            print(self.A[n-1][col],end=\" \")\n",
    "        row-=1\n",
    "        for row in reversed(range(1,n-1)):# range from 1 to n-2. range(1,n-1).but we need reversed so n-2 to 1.\n",
    "            print(self.A[row][0],end=\" \")\n",
    "\n",
    "s1 = Solution2dMatrix(A)\n",
    "#s1.print_2d_array()\n",
    "s1.print_outer_boundary()\n"
   ]
  },
  {
   "cell_type": "code",
   "execution_count": null,
   "metadata": {},
   "outputs": [],
   "source": []
  }
 ],
 "metadata": {
  "kernelspec": {
   "display_name": "Python 3",
   "language": "python",
   "name": "python3"
  },
  "language_info": {
   "codemirror_mode": {
    "name": "ipython",
    "version": 3
   },
   "file_extension": ".py",
   "mimetype": "text/x-python",
   "name": "python",
   "nbconvert_exporter": "python",
   "pygments_lexer": "ipython3",
   "version": "3.11.1"
  },
  "orig_nbformat": 4
 },
 "nbformat": 4,
 "nbformat_minor": 2
}
